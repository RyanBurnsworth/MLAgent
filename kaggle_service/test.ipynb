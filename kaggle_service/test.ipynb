{
 "cells": [
  {
   "cell_type": "markdown",
   "id": "35b51190",
   "metadata": {},
   "source": [
    "Titanic dataset: The mystery of the Titanic\n",
    "\n",
    "Problem: Predict survival on the Titanic using the training data, and inspect the test data for model evaluation.\n",
    "\n",
    "Dataset files: train.csv, test.csv\n"
   ]
  },
  {
   "cell_type": "code",
   "execution_count": null,
   "id": "51c2a289",
   "metadata": {},
   "outputs": [],
   "source": [
    "import pandas as pd\n",
    "import numpy as np\n",
    "import io\n",
    "from IPython.display import display\n",
    "\n",
    "# File paths from dataset metadata\n",
    "train_path = 'train.csv'\n",
    "test_path = 'test.csv'\n",
    "\n",
    "# Initialize dataframes\n",
    "df = None\n",
    "test_df = None\n",
    "\n",
    "# Load datasets with error handling\n",
    "try:\n",
    "    df = pd.read_csv(train_path)\n",
    "    print('Training data loaded:', df.shape)\n",
    "except Exception as e:\n",
    "    print('Error loading training data from', train_path, ':', e)\n",
    "    df = pd.DataFrame()\n",
    "\n",
    "try:\n",
    "    test_df = pd.read_csv(test_path)\n",
    "    print('Test data loaded:', test_df.shape)\n",
    "except Exception as e:\n",
    "    print('Error loading test data from', test_path, ':', e)\n",
    "    test_df = pd.DataFrame()\n"
   ]
  },
  {
   "cell_type": "code",
   "execution_count": null,
   "id": "9cc5fbbd",
   "metadata": {},
   "outputs": [],
   "source": [
    "# Display the first few rows of the training data\n",
    "if df is not None and not df.empty:\n",
    "    display(df.head())\n",
    "else:\n",
    "    print('Training data is empty or not loaded.')\n"
   ]
  },
  {
   "cell_type": "code",
   "execution_count": null,
   "id": "faafe143",
   "metadata": {},
   "outputs": [],
   "source": [
    "# Info about the training data\n",
    "import io\n",
    "buf = io.StringIO()\n",
    "if df is not None and not df.empty:\n",
    "    df.info(buf=buf)\n",
    "    print(buf.getvalue())\n",
    "else:\n",
    "    print('No training data to describe.')\n"
   ]
  },
  {
   "cell_type": "code",
   "execution_count": null,
   "id": "1ed6f010",
   "metadata": {},
   "outputs": [],
   "source": [
    "# Statistical summary for the training data\n",
    "if df is not None and not df.empty:\n",
    "    display(df.describe(include='all'))\n",
    "else:\n",
    "    print('No training data to summarize.')\n"
   ]
  },
  {
   "cell_type": "code",
   "execution_count": null,
   "id": "487bd9ca",
   "metadata": {},
   "outputs": [],
   "source": [
    "# Dataset shape, columns, data types, and missing values\n",
    "if df is not None and not df.empty:\n",
    "    shape = df.shape\n",
    "    n_cols = df.shape[1]\n",
    "    cols = df.columns.tolist()\n",
    "    dtypes = df.dtypes\n",
    "    missing = df.isnull().sum()\n",
    "    print('Dataset shape:', shape)\n",
    "    print('Number of columns:', n_cols)\n",
    "    print('Columns:', cols)\n",
    "    print('Data types:\\n', dtypes)\n",
    "    print('Missing values per column:\\n', missing)\n",
    "    # Target detection\n",
    "    possible_targets = ['target','label','class','y']\n",
    "    target_col = None\n",
    "    for c in df.columns:\n",
    "        if c.lower() in possible_targets:\n",
    "            target_col = c\n",
    "            break\n",
    "    if target_col is None:\n",
    "        target_col = df.columns[-1]\n",
    "    print('Suspected target variable:', target_col)\n",
    "else:\n",
    "    print('No data to inspect.')\n"
   ]
  },
  {
   "cell_type": "code",
   "execution_count": null,
   "id": "356c3b93",
   "metadata": {},
   "outputs": [],
   "source": [
    "# Detect GPU availability (GPU/CPU)\n",
    "device = 'cpu'\n",
    "try:\n",
    "    import torch\n",
    "    device = 'cuda' if torch.cuda.is_available() else 'cpu'\n",
    "except Exception:\n",
    "    device = 'cpu'\n",
    "print('Detected device:', device)\n"
   ]
  },
  {
   "cell_type": "code",
   "execution_count": null,
   "id": "dd8d726a",
   "metadata": {},
   "outputs": [],
   "source": [
    "# Compile dataset summary\n",
    "import io\n",
    "\n",
    "shape = df.shape if df is not None else (0, 0)\n",
    "columns = df.shape[1] if (df is not None) else 0\n",
    "missing_values = df.isnull().sum().to_dict() if (df is not None) else {}\n",
    "sample_data = df.head().to_dict(orient='records') if (df is not None) else []\n",
    "statistical_summary = df.describe(include='all') if (df is not None and not df.empty) else None\n",
    "info = ''\n",
    "if df is not None and not df.empty:\n",
    "    buf2 = io.StringIO()\n",
    "    df.info(buf=buf2)\n",
    "    info = buf2.getvalue()\n",
    "\n",
    "# Target variable detection\n",
    "target_variable = None\n",
    "if df is not None and not df.empty:\n",
    "    for col in df.columns:\n",
    "        if col.lower() in ['target','label','class','y']:\n",
    "            target_variable = col\n",
    "            break\n",
    "    if target_variable is None:\n",
    "        target_variable = df.columns[-1]\n",
    "\n",
    "# Device from earlier cell\n",
    "try:\n",
    "    device\n",
    "except NameError:\n",
    "    device = 'cpu'\n",
    "\n",
    "dataset_summary = {\n",
    "    \"shape\": shape,\n",
    "    \"columns\": columns,\n",
    "    \"missing_values\": missing_values,\n",
    "    \"sample_data\": sample_data,\n",
    "    \"statistical_summary\": statistical_summary,\n",
    "    \"info\": info,\n",
    "    \"device\": device,\n",
    "    \"target_variable\": target_variable\n",
    "}\n",
    "print('Dataset summary:')\n",
    "print(dataset_summary)\n"
   ]
  }
 ],
 "metadata": {
  "kernelspec": {
   "display_name": "Python 3",
   "language": "python",
   "name": "python3"
  },
  "language_info": {
   "name": "python",
   "version": "3.x"
  }
 },
 "nbformat": 4,
 "nbformat_minor": 5
}
